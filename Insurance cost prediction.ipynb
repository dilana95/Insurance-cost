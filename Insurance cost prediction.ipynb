{
 "cells": [
  {
   "cell_type": "markdown",
   "metadata": {
    "_cell_guid": "b1076dfc-b9ad-4769-8c92-a6c4dae69d19",
    "_uuid": "8f2839f25d086af736a60e9eeb907d3b93b6e0e5"
   },
   "source": [
    "# Insurance cost prediction using linear regression\n",
    "\n",
    "\n",
    "In this assignment I'm going to use information like a person's age, sex, BMI, no. of children and smoking habit to predict the price of yearly medical bills. This kind of model is useful for insurance companies to determine the yearly insurance premium for a person. The dataset for this problem is taken from [Kaggle](https://www.kaggle.com/mirichoi0218/insurance).\n",
    "\n",
    "\n",
    "I will create a model with the following steps:\n",
    "1. Download and explore the dataset\n",
    "2. Prepare the dataset for training\n",
    "3. Create a linear regression model\n",
    "4. Train the model to fit the data\n",
    "5. Make predictions using the trained model\n",
    "\n"
   ]
  },
  {
   "cell_type": "code",
   "execution_count": 4,
   "metadata": {
    "execution": {
     "iopub.execute_input": "2021-12-09T18:12:42.860768Z",
     "iopub.status.busy": "2021-12-09T18:12:42.860465Z",
     "iopub.status.idle": "2021-12-09T18:12:43.181293Z",
     "shell.execute_reply": "2021-12-09T18:12:43.180462Z",
     "shell.execute_reply.started": "2021-12-09T18:12:42.860741Z"
    }
   },
   "outputs": [],
   "source": [
    "import torch\n",
    "import torchvision\n",
    "import torch.nn as nn\n",
    "import pandas as pd\n",
    "import matplotlib.pyplot as plt\n",
    "import torch.nn.functional as F\n",
    "from torchvision.datasets.utils import download_url\n",
    "from torch.utils.data import DataLoader, TensorDataset, random_split"
   ]
  },
  {
   "cell_type": "markdown",
   "metadata": {},
   "source": [
    "## Step 1: Download and explore the data\n",
    "\n"
   ]
  },
  {
   "cell_type": "markdown",
   "metadata": {},
   "source": [
    "To load the dataset into memory, we'll use the `read_csv` function from the `pandas` library. The data will be loaded as a Pandas dataframe. See this short tutorial to learn more: https://data36.com/pandas-tutorial-1-basics-reading-data-files-dataframes-data-selection/"
   ]
  },
  {
   "cell_type": "code",
   "execution_count": 5,
   "metadata": {},
   "outputs": [
    {
     "data": {
      "text/html": [
       "<div>\n",
       "<style scoped>\n",
       "    .dataframe tbody tr th:only-of-type {\n",
       "        vertical-align: middle;\n",
       "    }\n",
       "\n",
       "    .dataframe tbody tr th {\n",
       "        vertical-align: top;\n",
       "    }\n",
       "\n",
       "    .dataframe thead th {\n",
       "        text-align: right;\n",
       "    }\n",
       "</style>\n",
       "<table border=\"1\" class=\"dataframe\">\n",
       "  <thead>\n",
       "    <tr style=\"text-align: right;\">\n",
       "      <th></th>\n",
       "      <th>age</th>\n",
       "      <th>sex</th>\n",
       "      <th>bmi</th>\n",
       "      <th>children</th>\n",
       "      <th>smoker</th>\n",
       "      <th>region</th>\n",
       "      <th>charges</th>\n",
       "    </tr>\n",
       "  </thead>\n",
       "  <tbody>\n",
       "    <tr>\n",
       "      <th>0</th>\n",
       "      <td>19</td>\n",
       "      <td>female</td>\n",
       "      <td>27.900</td>\n",
       "      <td>0</td>\n",
       "      <td>yes</td>\n",
       "      <td>southwest</td>\n",
       "      <td>16884.92400</td>\n",
       "    </tr>\n",
       "    <tr>\n",
       "      <th>1</th>\n",
       "      <td>18</td>\n",
       "      <td>male</td>\n",
       "      <td>33.770</td>\n",
       "      <td>1</td>\n",
       "      <td>no</td>\n",
       "      <td>southeast</td>\n",
       "      <td>1725.55230</td>\n",
       "    </tr>\n",
       "    <tr>\n",
       "      <th>2</th>\n",
       "      <td>28</td>\n",
       "      <td>male</td>\n",
       "      <td>33.000</td>\n",
       "      <td>3</td>\n",
       "      <td>no</td>\n",
       "      <td>southeast</td>\n",
       "      <td>4449.46200</td>\n",
       "    </tr>\n",
       "    <tr>\n",
       "      <th>3</th>\n",
       "      <td>33</td>\n",
       "      <td>male</td>\n",
       "      <td>22.705</td>\n",
       "      <td>0</td>\n",
       "      <td>no</td>\n",
       "      <td>northwest</td>\n",
       "      <td>21984.47061</td>\n",
       "    </tr>\n",
       "    <tr>\n",
       "      <th>4</th>\n",
       "      <td>32</td>\n",
       "      <td>male</td>\n",
       "      <td>28.880</td>\n",
       "      <td>0</td>\n",
       "      <td>no</td>\n",
       "      <td>northwest</td>\n",
       "      <td>3866.85520</td>\n",
       "    </tr>\n",
       "  </tbody>\n",
       "</table>\n",
       "</div>"
      ],
      "text/plain": [
       "   age     sex     bmi  children smoker     region      charges\n",
       "0   19  female  27.900         0    yes  southwest  16884.92400\n",
       "1   18    male  33.770         1     no  southeast   1725.55230\n",
       "2   28    male  33.000         3     no  southeast   4449.46200\n",
       "3   33    male  22.705         0     no  northwest  21984.47061\n",
       "4   32    male  28.880         0     no  northwest   3866.85520"
      ]
     },
     "execution_count": 5,
     "metadata": {},
     "output_type": "execute_result"
    }
   ],
   "source": [
    "dataframe_raw = pd.read_csv(\"C:\\python\\pytorch\\insurance.csv\")\n",
    "dataframe_raw.head()"
   ]
  },
  {
   "cell_type": "markdown",
   "metadata": {},
   "source": [
    "We're going to do a slight customization of the data, so that you every participant receives a slightly different version of the dataset. Fill in your name below as a string (enter at least 5 characters)"
   ]
  },
  {
   "cell_type": "markdown",
   "metadata": {},
   "source": [
    "Lets drop the reigion colum because it doesen't seem importnat parameter here"
   ]
  },
  {
   "cell_type": "code",
   "execution_count": 9,
   "metadata": {},
   "outputs": [
    {
     "data": {
      "text/html": [
       "<div>\n",
       "<style scoped>\n",
       "    .dataframe tbody tr th:only-of-type {\n",
       "        vertical-align: middle;\n",
       "    }\n",
       "\n",
       "    .dataframe tbody tr th {\n",
       "        vertical-align: top;\n",
       "    }\n",
       "\n",
       "    .dataframe thead th {\n",
       "        text-align: right;\n",
       "    }\n",
       "</style>\n",
       "<table border=\"1\" class=\"dataframe\">\n",
       "  <thead>\n",
       "    <tr style=\"text-align: right;\">\n",
       "      <th></th>\n",
       "      <th>age</th>\n",
       "      <th>sex</th>\n",
       "      <th>bmi</th>\n",
       "      <th>children</th>\n",
       "      <th>smoker</th>\n",
       "      <th>charges</th>\n",
       "    </tr>\n",
       "  </thead>\n",
       "  <tbody>\n",
       "    <tr>\n",
       "      <th>0</th>\n",
       "      <td>19</td>\n",
       "      <td>female</td>\n",
       "      <td>27.900</td>\n",
       "      <td>0</td>\n",
       "      <td>yes</td>\n",
       "      <td>16884.92400</td>\n",
       "    </tr>\n",
       "    <tr>\n",
       "      <th>1</th>\n",
       "      <td>18</td>\n",
       "      <td>male</td>\n",
       "      <td>33.770</td>\n",
       "      <td>1</td>\n",
       "      <td>no</td>\n",
       "      <td>1725.55230</td>\n",
       "    </tr>\n",
       "    <tr>\n",
       "      <th>2</th>\n",
       "      <td>28</td>\n",
       "      <td>male</td>\n",
       "      <td>33.000</td>\n",
       "      <td>3</td>\n",
       "      <td>no</td>\n",
       "      <td>4449.46200</td>\n",
       "    </tr>\n",
       "    <tr>\n",
       "      <th>3</th>\n",
       "      <td>33</td>\n",
       "      <td>male</td>\n",
       "      <td>22.705</td>\n",
       "      <td>0</td>\n",
       "      <td>no</td>\n",
       "      <td>21984.47061</td>\n",
       "    </tr>\n",
       "    <tr>\n",
       "      <th>4</th>\n",
       "      <td>32</td>\n",
       "      <td>male</td>\n",
       "      <td>28.880</td>\n",
       "      <td>0</td>\n",
       "      <td>no</td>\n",
       "      <td>3866.85520</td>\n",
       "    </tr>\n",
       "  </tbody>\n",
       "</table>\n",
       "</div>"
      ],
      "text/plain": [
       "   age     sex     bmi  children smoker      charges\n",
       "0   19  female  27.900         0    yes  16884.92400\n",
       "1   18    male  33.770         1     no   1725.55230\n",
       "2   28    male  33.000         3     no   4449.46200\n",
       "3   33    male  22.705         0     no  21984.47061\n",
       "4   32    male  28.880         0     no   3866.85520"
      ]
     },
     "execution_count": 9,
     "metadata": {},
     "output_type": "execute_result"
    }
   ],
   "source": [
    "dataframe = dataframe_raw.drop(['region'], axis=1)\n",
    "dataframe.head()"
   ]
  },
  {
   "cell_type": "code",
   "execution_count": 10,
   "metadata": {},
   "outputs": [
    {
     "name": "stdout",
     "output_type": "stream",
     "text": [
      "1338\n"
     ]
    }
   ],
   "source": [
    "num_rows = dataframe.shape[0]\n",
    "print(num_rows)"
   ]
  },
  {
   "cell_type": "code",
   "execution_count": 11,
   "metadata": {},
   "outputs": [
    {
     "name": "stdout",
     "output_type": "stream",
     "text": [
      "6\n"
     ]
    }
   ],
   "source": [
    "num_cols = dataframe.shape[1]\n",
    "print(num_cols)"
   ]
  },
  {
   "cell_type": "code",
   "execution_count": 12,
   "metadata": {},
   "outputs": [],
   "source": [
    "input_cols = ['age','sex','bmi','children','smoker']"
   ]
  },
  {
   "cell_type": "code",
   "execution_count": 13,
   "metadata": {},
   "outputs": [],
   "source": [
    "categorical_cols = ['sex','smoker']"
   ]
  },
  {
   "cell_type": "code",
   "execution_count": 14,
   "metadata": {},
   "outputs": [],
   "source": [
    "output_cols = ['charges']"
   ]
  },
  {
   "cell_type": "markdown",
   "metadata": {},
   "source": [
    "## Step 2: Prepare the dataset for training\n",
    "\n",
    "We need to convert the data from the Pandas dataframe into a PyTorch tensors for training. To do this, the first step is to convert it numpy arrays. If you've filled out `input_cols`, `categorial_cols` and `output_cols` correctly, this following function will perform the conversion to numpy arrays."
   ]
  },
  {
   "cell_type": "code",
   "execution_count": 19,
   "metadata": {},
   "outputs": [],
   "source": [
    "def dataframe_to_arrays(dataframe):\n",
    "    # Make a copy of the original dataframe\n",
    "    dataframe1 = dataframe.copy(deep=True)\n",
    "    # Convert non-numeric categorical columns to numbers\n",
    "    for col in categorical_cols:\n",
    "        dataframe1[col] = dataframe1[col].astype('category').cat.codes\n",
    "    # Extract input & outupts as numpy arrays\n",
    "    inputs_array = dataframe1[input_cols].to_numpy()\n",
    "    targets_array = dataframe1[output_cols].to_numpy()\n",
    "    return inputs_array, targets_array"
   ]
  },
  {
   "cell_type": "code",
   "execution_count": 20,
   "metadata": {},
   "outputs": [
    {
     "data": {
      "text/plain": [
       "(array([[19.  ,  0.  , 27.9 ,  0.  ,  1.  ],\n",
       "        [18.  ,  1.  , 33.77,  1.  ,  0.  ],\n",
       "        [28.  ,  1.  , 33.  ,  3.  ,  0.  ],\n",
       "        ...,\n",
       "        [18.  ,  0.  , 36.85,  0.  ,  0.  ],\n",
       "        [21.  ,  0.  , 25.8 ,  0.  ,  0.  ],\n",
       "        [61.  ,  0.  , 29.07,  0.  ,  1.  ]]),\n",
       " array([[16884.924 ],\n",
       "        [ 1725.5523],\n",
       "        [ 4449.462 ],\n",
       "        ...,\n",
       "        [ 1629.8335],\n",
       "        [ 2007.945 ],\n",
       "        [29141.3603]]))"
      ]
     },
     "execution_count": 20,
     "metadata": {},
     "output_type": "execute_result"
    }
   ],
   "source": [
    "inputs_array, targets_array = dataframe_to_arrays(dataframe)\n",
    "inputs_array, targets_array"
   ]
  },
  {
   "cell_type": "markdown",
   "metadata": {},
   "source": [
    "Convert the numpy arrays `inputs_array` and `targets_array` into PyTorch tensors. Make sure that the data type is `torch.float32`.**"
   ]
  },
  {
   "cell_type": "code",
   "execution_count": 21,
   "metadata": {},
   "outputs": [],
   "source": [
    "inputs = torch.Tensor(inputs_array)\n",
    "targets =torch.Tensor(targets_array)"
   ]
  },
  {
   "cell_type": "code",
   "execution_count": 22,
   "metadata": {},
   "outputs": [
    {
     "data": {
      "text/plain": [
       "(torch.float32, torch.float32)"
      ]
     },
     "execution_count": 22,
     "metadata": {},
     "output_type": "execute_result"
    }
   ],
   "source": [
    "inputs.dtype, targets.dtype"
   ]
  },
  {
   "cell_type": "markdown",
   "metadata": {},
   "source": [
    "Next, we need to create PyTorch datasets & data loaders for training & validation. We'll start by creating a `TensorDataset`."
   ]
  },
  {
   "cell_type": "code",
   "execution_count": 23,
   "metadata": {},
   "outputs": [],
   "source": [
    "dataset = TensorDataset(inputs, targets)"
   ]
  },
  {
   "cell_type": "code",
   "execution_count": 24,
   "metadata": {},
   "outputs": [
    {
     "data": {
      "text/plain": [
       "(torch.Size([1338, 5]), torch.Size([1338, 1]))"
      ]
     },
     "execution_count": 24,
     "metadata": {},
     "output_type": "execute_result"
    }
   ],
   "source": [
    " inputs.shape,targets.shape"
   ]
  },
  {
   "cell_type": "code",
   "execution_count": 25,
   "metadata": {},
   "outputs": [],
   "source": [
    "val_percent = 0.1 \n",
    "val_size = int(num_rows * val_percent)\n",
    "train_size = num_rows - val_size\n",
    "\n",
    "\n",
    "train_ds, val_ds = random_split(dataset, [train_size,val_size]) # Use the random_split function to split dataset into 2 parts of the desired length"
   ]
  },
  {
   "cell_type": "code",
   "execution_count": 26,
   "metadata": {},
   "outputs": [],
   "source": [
    "#random_split?\n",
    "#train_ds?"
   ]
  },
  {
   "cell_type": "markdown",
   "metadata": {},
   "source": [
    "create data loaders for training & validation.\n",
    "\n"
   ]
  },
  {
   "cell_type": "code",
   "execution_count": 27,
   "metadata": {},
   "outputs": [],
   "source": [
    "batch_size = 128"
   ]
  },
  {
   "cell_type": "code",
   "execution_count": 28,
   "metadata": {},
   "outputs": [],
   "source": [
    "train_loader = DataLoader(train_ds, batch_size, shuffle=True)\n",
    "val_loader = DataLoader(val_ds, batch_size)"
   ]
  },
  {
   "cell_type": "markdown",
   "metadata": {},
   "source": [
    "Let's look at a batch of data to verify everything is working fine so far."
   ]
  },
  {
   "cell_type": "code",
   "execution_count": 29,
   "metadata": {},
   "outputs": [
    {
     "name": "stdout",
     "output_type": "stream",
     "text": [
      "inputs: tensor([[18.0000,  1.0000, 31.6800,  2.0000,  1.0000],\n",
      "        [36.0000,  0.0000, 29.0400,  4.0000,  0.0000],\n",
      "        [27.0000,  1.0000, 30.3000,  3.0000,  0.0000],\n",
      "        [23.0000,  1.0000, 32.5600,  0.0000,  0.0000],\n",
      "        [62.0000,  1.0000, 27.5500,  1.0000,  0.0000],\n",
      "        [37.0000,  0.0000, 26.4000,  0.0000,  1.0000],\n",
      "        [27.0000,  1.0000, 26.0300,  0.0000,  0.0000],\n",
      "        [19.0000,  0.0000, 35.1500,  0.0000,  0.0000],\n",
      "        [36.0000,  1.0000, 30.8750,  1.0000,  0.0000],\n",
      "        [50.0000,  0.0000, 25.6000,  0.0000,  0.0000],\n",
      "        [26.0000,  1.0000, 30.0000,  1.0000,  0.0000],\n",
      "        [55.0000,  0.0000, 33.5350,  2.0000,  0.0000],\n",
      "        [21.0000,  0.0000, 34.8700,  0.0000,  0.0000],\n",
      "        [25.0000,  0.0000, 41.3250,  0.0000,  0.0000],\n",
      "        [19.0000,  1.0000, 19.8000,  0.0000,  0.0000],\n",
      "        [18.0000,  0.0000, 39.1600,  0.0000,  0.0000],\n",
      "        [21.0000,  0.0000, 25.8000,  0.0000,  0.0000],\n",
      "        [38.0000,  0.0000, 40.5650,  1.0000,  0.0000],\n",
      "        [53.0000,  1.0000, 36.1000,  1.0000,  0.0000],\n",
      "        [60.0000,  0.0000, 25.8400,  0.0000,  0.0000],\n",
      "        [19.0000,  0.0000, 37.4300,  0.0000,  0.0000],\n",
      "        [51.0000,  0.0000, 20.6000,  0.0000,  0.0000],\n",
      "        [56.0000,  0.0000, 41.9100,  0.0000,  0.0000],\n",
      "        [31.0000,  0.0000, 21.7550,  0.0000,  0.0000],\n",
      "        [42.0000,  0.0000, 37.9000,  0.0000,  0.0000],\n",
      "        [26.0000,  0.0000, 28.7850,  0.0000,  0.0000],\n",
      "        [18.0000,  1.0000, 30.1400,  0.0000,  0.0000],\n",
      "        [34.0000,  0.0000, 30.2100,  1.0000,  1.0000],\n",
      "        [46.0000,  1.0000, 22.3000,  0.0000,  0.0000],\n",
      "        [54.0000,  0.0000, 31.9000,  3.0000,  0.0000],\n",
      "        [60.0000,  1.0000, 39.9000,  0.0000,  1.0000],\n",
      "        [19.0000,  1.0000, 28.7000,  0.0000,  0.0000],\n",
      "        [30.0000,  1.0000, 37.8000,  2.0000,  1.0000],\n",
      "        [34.0000,  1.0000, 25.3000,  2.0000,  1.0000],\n",
      "        [32.0000,  1.0000, 35.2000,  2.0000,  0.0000],\n",
      "        [29.0000,  0.0000, 29.5900,  1.0000,  0.0000],\n",
      "        [35.0000,  0.0000, 43.3400,  2.0000,  0.0000],\n",
      "        [60.0000,  0.0000, 35.1000,  0.0000,  0.0000],\n",
      "        [58.0000,  0.0000, 39.0500,  0.0000,  0.0000],\n",
      "        [40.0000,  1.0000, 34.1050,  1.0000,  0.0000],\n",
      "        [52.0000,  1.0000, 41.8000,  2.0000,  1.0000],\n",
      "        [20.0000,  0.0000, 26.8400,  1.0000,  1.0000],\n",
      "        [33.0000,  1.0000, 27.4550,  2.0000,  0.0000],\n",
      "        [22.0000,  0.0000, 27.1000,  0.0000,  0.0000],\n",
      "        [39.0000,  1.0000, 28.3000,  1.0000,  1.0000],\n",
      "        [23.0000,  1.0000, 31.7300,  3.0000,  1.0000],\n",
      "        [50.0000,  1.0000, 37.0700,  1.0000,  0.0000],\n",
      "        [45.0000,  0.0000, 30.9000,  2.0000,  0.0000],\n",
      "        [63.0000,  0.0000, 21.6600,  0.0000,  0.0000],\n",
      "        [43.0000,  0.0000, 26.7000,  2.0000,  1.0000],\n",
      "        [26.0000,  0.0000, 17.1950,  2.0000,  1.0000],\n",
      "        [19.0000,  0.0000, 23.4000,  2.0000,  0.0000],\n",
      "        [41.0000,  0.0000, 32.2000,  1.0000,  0.0000],\n",
      "        [59.0000,  0.0000, 27.7200,  3.0000,  0.0000],\n",
      "        [32.0000,  0.0000, 44.2200,  0.0000,  0.0000],\n",
      "        [55.0000,  0.0000, 26.8000,  1.0000,  0.0000],\n",
      "        [30.0000,  0.0000, 19.9500,  3.0000,  0.0000],\n",
      "        [59.0000,  1.0000, 31.7900,  2.0000,  0.0000],\n",
      "        [46.0000,  1.0000, 27.6000,  0.0000,  0.0000],\n",
      "        [28.0000,  0.0000, 25.9350,  1.0000,  0.0000],\n",
      "        [24.0000,  1.0000, 29.8300,  0.0000,  1.0000],\n",
      "        [49.0000,  0.0000, 21.3000,  1.0000,  0.0000],\n",
      "        [38.0000,  1.0000, 19.9500,  1.0000,  0.0000],\n",
      "        [20.0000,  0.0000, 28.9750,  0.0000,  0.0000],\n",
      "        [18.0000,  0.0000, 38.6650,  2.0000,  0.0000],\n",
      "        [59.0000,  0.0000, 26.5050,  0.0000,  0.0000],\n",
      "        [44.0000,  1.0000, 39.5200,  0.0000,  0.0000],\n",
      "        [45.0000,  1.0000, 30.4950,  2.0000,  0.0000],\n",
      "        [62.0000,  0.0000, 32.9650,  3.0000,  0.0000],\n",
      "        [64.0000,  0.0000, 22.9900,  0.0000,  1.0000],\n",
      "        [25.0000,  1.0000, 27.5500,  0.0000,  0.0000],\n",
      "        [23.0000,  0.0000, 28.4900,  1.0000,  1.0000],\n",
      "        [21.0000,  1.0000, 28.9750,  0.0000,  0.0000],\n",
      "        [29.0000,  1.0000, 31.7300,  2.0000,  0.0000],\n",
      "        [40.0000,  1.0000, 41.2300,  1.0000,  0.0000],\n",
      "        [27.0000,  1.0000, 42.1300,  0.0000,  1.0000],\n",
      "        [19.0000,  1.0000, 27.7000,  0.0000,  1.0000],\n",
      "        [27.0000,  0.0000, 24.7500,  0.0000,  1.0000],\n",
      "        [28.0000,  0.0000, 28.8800,  1.0000,  0.0000],\n",
      "        [18.0000,  0.0000, 30.1150,  0.0000,  0.0000],\n",
      "        [22.0000,  0.0000, 31.0200,  3.0000,  1.0000],\n",
      "        [19.0000,  1.0000, 20.4250,  0.0000,  0.0000],\n",
      "        [37.0000,  1.0000, 36.1900,  0.0000,  0.0000],\n",
      "        [45.0000,  1.0000, 27.5000,  3.0000,  0.0000],\n",
      "        [43.0000,  0.0000, 35.6400,  1.0000,  0.0000],\n",
      "        [47.0000,  1.0000, 29.8000,  3.0000,  1.0000],\n",
      "        [28.0000,  1.0000, 35.4350,  0.0000,  0.0000],\n",
      "        [22.0000,  1.0000, 28.8800,  0.0000,  0.0000],\n",
      "        [42.0000,  1.0000, 30.0000,  0.0000,  1.0000],\n",
      "        [52.0000,  1.0000, 32.2050,  3.0000,  0.0000],\n",
      "        [48.0000,  0.0000, 31.1300,  0.0000,  0.0000],\n",
      "        [58.0000,  0.0000, 31.8250,  2.0000,  0.0000],\n",
      "        [50.0000,  1.0000, 32.1100,  2.0000,  0.0000],\n",
      "        [28.0000,  1.0000, 31.6800,  0.0000,  1.0000],\n",
      "        [60.0000,  1.0000, 40.9200,  0.0000,  1.0000],\n",
      "        [36.0000,  1.0000, 41.8950,  3.0000,  1.0000],\n",
      "        [53.0000,  1.0000, 21.4000,  1.0000,  0.0000],\n",
      "        [54.0000,  1.0000, 30.8000,  1.0000,  1.0000],\n",
      "        [18.0000,  0.0000, 31.9200,  0.0000,  0.0000],\n",
      "        [18.0000,  0.0000, 36.8500,  0.0000,  1.0000],\n",
      "        [48.0000,  1.0000, 29.7000,  0.0000,  0.0000],\n",
      "        [29.0000,  1.0000, 35.5000,  2.0000,  1.0000],\n",
      "        [63.0000,  1.0000, 30.8000,  0.0000,  0.0000],\n",
      "        [49.0000,  1.0000, 28.7000,  1.0000,  0.0000],\n",
      "        [31.0000,  0.0000, 25.7400,  0.0000,  0.0000],\n",
      "        [52.0000,  0.0000, 24.8600,  0.0000,  0.0000],\n",
      "        [53.0000,  1.0000, 41.4700,  0.0000,  0.0000],\n",
      "        [47.0000,  0.0000, 36.0000,  1.0000,  0.0000],\n",
      "        [46.0000,  0.0000, 33.4400,  1.0000,  0.0000],\n",
      "        [33.0000,  1.0000, 30.2500,  0.0000,  0.0000],\n",
      "        [38.0000,  0.0000, 19.9500,  2.0000,  0.0000],\n",
      "        [21.0000,  1.0000, 35.5300,  0.0000,  0.0000],\n",
      "        [30.0000,  1.0000, 44.2200,  2.0000,  0.0000],\n",
      "        [57.0000,  0.0000, 30.4950,  0.0000,  0.0000],\n",
      "        [46.0000,  1.0000, 33.4400,  1.0000,  0.0000],\n",
      "        [23.0000,  1.0000, 41.9100,  0.0000,  0.0000],\n",
      "        [49.0000,  1.0000, 37.5100,  2.0000,  0.0000],\n",
      "        [22.0000,  1.0000, 39.5000,  0.0000,  0.0000],\n",
      "        [51.0000,  1.0000, 30.0300,  1.0000,  0.0000],\n",
      "        [30.0000,  0.0000, 33.3300,  1.0000,  0.0000],\n",
      "        [62.0000,  1.0000, 30.0200,  0.0000,  0.0000],\n",
      "        [34.0000,  1.0000, 30.8000,  0.0000,  1.0000],\n",
      "        [51.0000,  1.0000, 31.6350,  0.0000,  0.0000],\n",
      "        [59.0000,  1.0000, 24.7000,  0.0000,  0.0000],\n",
      "        [23.0000,  0.0000, 32.7800,  2.0000,  1.0000],\n",
      "        [59.0000,  0.0000, 27.8300,  3.0000,  0.0000],\n",
      "        [23.0000,  0.0000, 23.1800,  2.0000,  0.0000],\n",
      "        [46.0000,  1.0000, 38.1700,  2.0000,  0.0000]])\n",
      "targets: tensor([[34303.1680],\n",
      "        [ 7243.8135],\n",
      "        [ 4260.7441],\n",
      "        [ 1824.2854],\n",
      "        [13937.6660],\n",
      "        [19539.2422],\n",
      "        [ 3070.8086],\n",
      "        [ 2134.9016],\n",
      "        [ 5373.3643],\n",
      "        [ 8932.0840],\n",
      "        [ 2904.0879],\n",
      "        [12269.6885],\n",
      "        [ 2020.5522],\n",
      "        [17878.9004],\n",
      "        [ 1241.5649],\n",
      "        [ 1633.0444],\n",
      "        [ 2007.9449],\n",
      "        [ 6373.5571],\n",
      "        [10085.8457],\n",
      "        [28923.1367],\n",
      "        [ 2138.0708],\n",
      "        [ 9264.7969],\n",
      "        [11093.6230],\n",
      "        [ 4134.0825],\n",
      "        [ 6474.0132],\n",
      "        [ 3385.3992],\n",
      "        [ 1131.5066],\n",
      "        [43943.8750],\n",
      "        [ 7147.1050],\n",
      "        [27322.7344],\n",
      "        [48173.3594],\n",
      "        [ 1253.9360],\n",
      "        [39241.4414],\n",
      "        [18972.4941],\n",
      "        [ 4670.6401],\n",
      "        [ 3947.4131],\n",
      "        [ 5846.9175],\n",
      "        [12644.5889],\n",
      "        [11856.4111],\n",
      "        [ 6600.2061],\n",
      "        [47269.8555],\n",
      "        [17085.2676],\n",
      "        [ 5261.4692],\n",
      "        [ 2154.3611],\n",
      "        [21082.1602],\n",
      "        [36189.1016],\n",
      "        [ 9048.0273],\n",
      "        [ 8520.0264],\n",
      "        [14449.8545],\n",
      "        [22478.5996],\n",
      "        [14455.6445],\n",
      "        [ 2913.5691],\n",
      "        [ 6775.9609],\n",
      "        [14001.1338],\n",
      "        [ 3994.1777],\n",
      "        [35160.1328],\n",
      "        [ 5693.4307],\n",
      "        [12928.7910],\n",
      "        [24603.0488],\n",
      "        [ 4133.6416],\n",
      "        [18648.4219],\n",
      "        [ 9182.1699],\n",
      "        [ 5855.9023],\n",
      "        [ 2257.4753],\n",
      "        [ 3393.3564],\n",
      "        [12815.4453],\n",
      "        [ 6948.7007],\n",
      "        [ 8413.4629],\n",
      "        [15612.1934],\n",
      "        [27037.9141],\n",
      "        [ 2523.1694],\n",
      "        [18328.2383],\n",
      "        [ 1906.3583],\n",
      "        [ 4433.3877],\n",
      "        [ 6610.1099],\n",
      "        [39611.7578],\n",
      "        [16297.8457],\n",
      "        [16577.7793],\n",
      "        [ 4337.7354],\n",
      "        [ 2203.4719],\n",
      "        [35595.5898],\n",
      "        [ 1625.4337],\n",
      "        [19214.7051],\n",
      "        [ 8615.2998],\n",
      "        [ 7345.7266],\n",
      "        [25309.4883],\n",
      "        [ 3268.8467],\n",
      "        [ 2250.8352],\n",
      "        [22144.0312],\n",
      "        [11488.3174],\n",
      "        [ 8280.6230],\n",
      "        [13607.3691],\n",
      "        [25333.3320],\n",
      "        [34672.1484],\n",
      "        [48673.5586],\n",
      "        [43753.3359],\n",
      "        [10065.4131],\n",
      "        [41999.5195],\n",
      "        [ 2205.9807],\n",
      "        [36149.4844],\n",
      "        [ 7789.6348],\n",
      "        [44585.4570],\n",
      "        [13390.5586],\n",
      "        [ 8703.4561],\n",
      "        [ 3756.6216],\n",
      "        [27117.9941],\n",
      "        [ 9504.3105],\n",
      "        [ 8556.9072],\n",
      "        [ 8240.5898],\n",
      "        [ 3704.3545],\n",
      "        [ 7133.9023],\n",
      "        [ 1532.4697],\n",
      "        [ 4266.1660],\n",
      "        [11840.7754],\n",
      "        [ 8334.5898],\n",
      "        [ 1837.2819],\n",
      "        [ 9304.7021],\n",
      "        [ 1682.5970],\n",
      "        [ 9377.9043],\n",
      "        [ 4151.0288],\n",
      "        [13352.0996],\n",
      "        [35491.6406],\n",
      "        [ 9174.1357],\n",
      "        [12323.9355],\n",
      "        [36021.0117],\n",
      "        [14001.2871],\n",
      "        [14426.0742],\n",
      "        [ 8347.1641]])\n"
     ]
    }
   ],
   "source": [
    "for xb, yb in train_loader:\n",
    "    print(\"inputs:\", xb)\n",
    "    print(\"targets:\", yb)\n",
    "    break"
   ]
  },
  {
   "cell_type": "markdown",
   "metadata": {},
   "source": [
    "## Step 3: Create a Linear Regression Model\n",
    "\n"
   ]
  },
  {
   "cell_type": "code",
   "execution_count": 31,
   "metadata": {},
   "outputs": [],
   "source": [
    "input_size = len(input_cols)\n",
    "output_size = len(output_cols) \n"
   ]
  },
  {
   "cell_type": "code",
   "execution_count": 35,
   "metadata": {},
   "outputs": [],
   "source": [
    "class InsuranceModel(nn.Module):\n",
    "    def __init__(self):\n",
    "        super().__init__()\n",
    "        self.linear = torch.nn.Linear(input_size,output_size)                  # fill this (hint: use input_size & output_size defined above)\n",
    "        \n",
    "    def forward(self, xb):\n",
    "        out = self.linear(xb)                          # fill this\n",
    "        return out\n",
    "    \n",
    "    def training_step(self, batch):\n",
    "        inputs, targets = batch \n",
    "        # Generate predictions\n",
    "        out = self(inputs)          \n",
    "        # Calcuate loss\n",
    "        loss = F.l1_loss(out, targets)                          # fill this\n",
    "        return loss\n",
    "    \n",
    "    def validation_step(self, batch):\n",
    "        inputs, targets = batch\n",
    "        # Generate predictions\n",
    "        out = self(inputs)\n",
    "        # Calculate loss\n",
    "        loss = F.l1_loss(out, targets)                           # fill this    \n",
    "        return {'val_loss': loss.detach()}\n",
    "        \n",
    "    def validation_epoch_end(self, outputs):\n",
    "        batch_losses = [x['val_loss'] for x in outputs]\n",
    "        epoch_loss = torch.stack(batch_losses).mean()   # Combine losses\n",
    "        return {'val_loss': epoch_loss.item()}\n",
    "    \n",
    "    def epoch_end(self, epoch, result, num_epochs):\n",
    "        # Print result every 20th epoch\n",
    "        if (epoch+1) % 100 == 0 or epoch == num_epochs-1:\n",
    "            print(\"Epoch [{}], val_loss: {:.4f}\".format(epoch+1, result['val_loss']))"
   ]
  },
  {
   "cell_type": "markdown",
   "metadata": {},
   "source": [
    "Let us create a model using the `InsuranceModel` class. "
   ]
  },
  {
   "cell_type": "code",
   "execution_count": 36,
   "metadata": {},
   "outputs": [],
   "source": [
    "model = InsuranceModel()"
   ]
  },
  {
   "cell_type": "markdown",
   "metadata": {},
   "source": [
    "Let's check out the weights and biases of the model using `model.parameters`."
   ]
  },
  {
   "cell_type": "code",
   "execution_count": 37,
   "metadata": {},
   "outputs": [
    {
     "data": {
      "text/plain": [
       "[Parameter containing:\n",
       " tensor([[ 0.0592, -0.2975, -0.2417,  0.4435,  0.2920]], requires_grad=True),\n",
       " Parameter containing:\n",
       " tensor([-0.2773], requires_grad=True)]"
      ]
     },
     "execution_count": 37,
     "metadata": {},
     "output_type": "execute_result"
    }
   ],
   "source": [
    "list(model.parameters())"
   ]
  },
  {
   "cell_type": "markdown",
   "metadata": {},
   "source": [
    "## Step 4: Train the model to fit the data\n",
    "\n"
   ]
  },
  {
   "cell_type": "code",
   "execution_count": 39,
   "metadata": {},
   "outputs": [],
   "source": [
    "def evaluate(model, val_loader):\n",
    "    outputs = [model.validation_step(batch) for batch in val_loader]\n",
    "    return model.validation_epoch_end(outputs)\n",
    "\n",
    "def fit(epochs, lr, model, train_loader, val_loader, opt_func=torch.optim.SGD):\n",
    "    history = []\n",
    "    optimizer = opt_func(model.parameters(), lr)\n",
    "    for epoch in range(epochs):\n",
    "        # Training Phase \n",
    "        for batch in train_loader:\n",
    "            loss = model.training_step(batch)\n",
    "            loss.backward()\n",
    "            optimizer.step()\n",
    "            optimizer.zero_grad()\n",
    "        # Validation phase\n",
    "        result = evaluate(model, val_loader)\n",
    "        model.epoch_end(epoch, result, epochs)\n",
    "        history.append(result)\n",
    "    return history"
   ]
  },
  {
   "cell_type": "markdown",
   "metadata": {},
   "source": [
    "Use the `evaluate` function to calculate the loss on the validation set before training.**"
   ]
  },
  {
   "cell_type": "code",
   "execution_count": 40,
   "metadata": {},
   "outputs": [
    {
     "name": "stdout",
     "output_type": "stream",
     "text": [
      "{'val_loss': 9050.0}\n"
     ]
    }
   ],
   "source": [
    "result = evaluate(model, val_loader)\n",
    "print(result)"
   ]
  },
  {
   "cell_type": "markdown",
   "metadata": {},
   "source": [
    "Train the model 4-5 times with different learning rates & for different number of epochs.**\n",
    "\n",
    "Vary learning rates by orders of 10 (e.g. `1e-2`, `1e-3`, `1e-4`, `1e-5`, `1e-6`) to figure out what works."
   ]
  },
  {
   "cell_type": "code",
   "execution_count": 41,
   "metadata": {},
   "outputs": [
    {
     "name": "stdout",
     "output_type": "stream",
     "text": [
      "Epoch [100], val_loss: 3805.9246\n",
      "Epoch [200], val_loss: 3644.7153\n",
      "Epoch [300], val_loss: 3507.6113\n",
      "Epoch [400], val_loss: 3343.9238\n",
      "Epoch [500], val_loss: 3241.2388\n",
      "Epoch [600], val_loss: 3160.9927\n",
      "Epoch [700], val_loss: 3123.7441\n",
      "Epoch [800], val_loss: 3105.5884\n",
      "Epoch [900], val_loss: 3102.9993\n",
      "Epoch [1000], val_loss: 3092.7505\n"
     ]
    }
   ],
   "source": [
    "epochs = 1000\n",
    "lr = 1e-2\n",
    "history1 = fit(epochs, lr, model, train_loader, val_loader)"
   ]
  },
  {
   "cell_type": "code",
   "execution_count": 42,
   "metadata": {},
   "outputs": [
    {
     "name": "stdout",
     "output_type": "stream",
     "text": [
      "Epoch [100], val_loss: 3093.2710\n",
      "Epoch [200], val_loss: 3094.1414\n",
      "Epoch [300], val_loss: 3095.1921\n",
      "Epoch [400], val_loss: 3093.6138\n",
      "Epoch [500], val_loss: 3093.0237\n",
      "Epoch [600], val_loss: 3093.0742\n",
      "Epoch [700], val_loss: 3091.5332\n",
      "Epoch [800], val_loss: 3090.9634\n",
      "Epoch [900], val_loss: 3090.9390\n",
      "Epoch [1000], val_loss: 3090.1238\n"
     ]
    }
   ],
   "source": [
    "epochs = 1000\n",
    "lr = 1e-3\n",
    "history2 = fit(epochs, lr, model, train_loader, val_loader)"
   ]
  },
  {
   "cell_type": "code",
   "execution_count": 43,
   "metadata": {},
   "outputs": [
    {
     "name": "stdout",
     "output_type": "stream",
     "text": [
      "Epoch [100], val_loss: 2977.6240\n",
      "Epoch [200], val_loss: 3085.0601\n",
      "Epoch [300], val_loss: 3202.4131\n",
      "Epoch [400], val_loss: 2986.4631\n",
      "Epoch [500], val_loss: 2902.7234\n",
      "Epoch [600], val_loss: 3039.8623\n",
      "Epoch [700], val_loss: 2858.1611\n",
      "Epoch [800], val_loss: 2709.3862\n",
      "Epoch [900], val_loss: 3104.8550\n",
      "Epoch [1000], val_loss: 2769.4980\n"
     ]
    }
   ],
   "source": [
    "epochs = 1000\n",
    "lr = 1\n",
    "history3 = fit(epochs, lr, model, train_loader, val_loader)"
   ]
  },
  {
   "cell_type": "code",
   "execution_count": 44,
   "metadata": {},
   "outputs": [
    {
     "name": "stdout",
     "output_type": "stream",
     "text": [
      "Epoch [100], val_loss: 2677.8403\n",
      "Epoch [200], val_loss: 3513.7786\n",
      "Epoch [300], val_loss: 3725.5938\n",
      "Epoch [400], val_loss: 2552.6465\n",
      "Epoch [500], val_loss: 3391.4231\n",
      "Epoch [600], val_loss: 3455.1990\n",
      "Epoch [700], val_loss: 2424.0386\n",
      "Epoch [800], val_loss: 2645.6934\n",
      "Epoch [900], val_loss: 2290.7632\n",
      "Epoch [1000], val_loss: 2687.0684\n"
     ]
    }
   ],
   "source": [
    "epochs = 1000\n",
    "lr = 2\n",
    "history4 = fit(epochs, lr, model, train_loader, val_loader)"
   ]
  },
  {
   "cell_type": "code",
   "execution_count": 45,
   "metadata": {},
   "outputs": [
    {
     "name": "stdout",
     "output_type": "stream",
     "text": [
      "Epoch [100], val_loss: 2256.8691\n",
      "Epoch [200], val_loss: 2352.3257\n",
      "Epoch [300], val_loss: 2385.6714\n",
      "Epoch [400], val_loss: 2625.7075\n",
      "Epoch [500], val_loss: 2292.3596\n",
      "Epoch [600], val_loss: 2482.0195\n",
      "Epoch [700], val_loss: 2339.1543\n",
      "Epoch [800], val_loss: 2083.9797\n",
      "Epoch [900], val_loss: 2209.2368\n",
      "Epoch [1000], val_loss: 2258.6819\n"
     ]
    }
   ],
   "source": [
    "epochs = 1000\n",
    "lr = 1\n",
    "history5 = fit(epochs, lr, model, train_loader, val_loader)"
   ]
  },
  {
   "cell_type": "markdown",
   "metadata": {},
   "source": [
    "final validation loss of the model"
   ]
  },
  {
   "cell_type": "code",
   "execution_count": 46,
   "metadata": {},
   "outputs": [],
   "source": [
    "val_loss = 2258.6819"
   ]
  },
  {
   "cell_type": "markdown",
   "metadata": {},
   "source": [
    "## Step 5: Make predictions using the trained model\n",
    "\n"
   ]
  },
  {
   "cell_type": "code",
   "execution_count": 49,
   "metadata": {},
   "outputs": [],
   "source": [
    "def predict_single(input, target, model):\n",
    "    inputs = input.unsqueeze(0)\n",
    "    predictions = model(inputs)            \n",
    "    prediction = predictions[0].detach()\n",
    "    print(\"Input:\", input)\n",
    "    print(\"Target:\", target)\n",
    "    print(\"Prediction:\", prediction)"
   ]
  },
  {
   "cell_type": "code",
   "execution_count": 56,
   "metadata": {},
   "outputs": [
    {
     "name": "stdout",
     "output_type": "stream",
     "text": [
      "Input: tensor([61.0000,  0.0000, 28.2000,  0.0000,  0.0000])\n",
      "Target: tensor([13041.9209])\n",
      "Prediction: tensor([13202.2148])\n"
     ]
    }
   ],
   "source": [
    "input, target = val_ds[1]\n",
    "predict_single(input, target, model)"
   ]
  },
  {
   "cell_type": "code",
   "execution_count": 51,
   "metadata": {},
   "outputs": [
    {
     "name": "stdout",
     "output_type": "stream",
     "text": [
      "Input: tensor([56.0000,  0.0000, 35.8000,  1.0000,  0.0000])\n",
      "Target: tensor([11674.1299])\n",
      "Prediction: tensor([12003.3613])\n"
     ]
    }
   ],
   "source": [
    "input, target = val_ds[10]\n",
    "predict_single(input, target, model)"
   ]
  },
  {
   "cell_type": "code",
   "execution_count": 61,
   "metadata": {},
   "outputs": [
    {
     "name": "stdout",
     "output_type": "stream",
     "text": [
      "Input: tensor([31.0000,  1.0000, 31.0650,  3.0000,  0.0000])\n",
      "Target: tensor([5425.0234])\n",
      "Prediction: tensor([5957.5327])\n"
     ]
    }
   ],
   "source": [
    "input, target = val_ds[100]\n",
    "predict_single(input, target, model)"
   ]
  },
  {
   "cell_type": "code",
   "execution_count": null,
   "metadata": {},
   "outputs": [],
   "source": []
  }
 ],
 "metadata": {
  "kernelspec": {
   "display_name": "Python 3",
   "language": "python",
   "name": "python3"
  },
  "language_info": {
   "codemirror_mode": {
    "name": "ipython",
    "version": 3
   },
   "file_extension": ".py",
   "mimetype": "text/x-python",
   "name": "python",
   "nbconvert_exporter": "python",
   "pygments_lexer": "ipython3",
   "version": "3.8.8"
  }
 },
 "nbformat": 4,
 "nbformat_minor": 4
}
